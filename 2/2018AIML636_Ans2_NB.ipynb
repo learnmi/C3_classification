{
 "cells": [
  {
   "cell_type": "code",
   "execution_count": 1,
   "metadata": {},
   "outputs": [],
   "source": [
    "import numpy as np\n",
    "import pandas as pd\n",
    "import matplotlib.pyplot as plt\n",
    "plt.style.use('ggplot')"
   ]
  },
  {
   "cell_type": "code",
   "execution_count": 34,
   "metadata": {},
   "outputs": [],
   "source": [
    "df = pd.DataFrame([[1,0,0,1, \"mammals\"],\n",
    "                   [0,0,0,0, \"non-mammals\"],\n",
    "                   [0,0,1,0, \"non-mammals\"],\n",
    "                   [1,0,1,0, \"mammals\"],\n",
    "                   [0,0,2,1, \"non-mammals\"],\n",
    "                   [0,0,0,1, \"non-mammals\"],\n",
    "                   [1,1,0,1, \"mammals\"],\n",
    "                   [0,1,0,1, \"non-mammals\"],\n",
    "                   [1,0,0,1, \"mammals\"],\n",
    "                   [1,0,1,0, \"non-mammals\"],\n",
    "                   [0,0,2,1, \"non-mammals\"],\n",
    "                   [0,0,2,1, \"non-mammals\"],\n",
    "                   [1,0,0,1, \"mammals\"],\n",
    "                   [0,0,1,0, \"non-mammals\"],\n",
    "                   [0,0,2,1, \"non-mammals\"],\n",
    "                   [0,0,0,1, \"non-mammals\"],\n",
    "                   [0,0,0,1, \"mammal\"],\n",
    "                   [0,1,0,1, \"non-mammals\"],\n",
    "                   [1,0,1,0, \"mammals\"],\n",
    "                   [0,1,0,1, \"non-mammals\"]\n",
    "                  ], columns = ['Give Birth', 'Can Fly', 'Live in Water', 'Have Legs', 'Class'])"
   ]
  },
  {
   "cell_type": "code",
   "execution_count": 35,
   "metadata": {},
   "outputs": [
    {
     "data": {
      "text/html": [
       "<div>\n",
       "<style scoped>\n",
       "    .dataframe tbody tr th:only-of-type {\n",
       "        vertical-align: middle;\n",
       "    }\n",
       "\n",
       "    .dataframe tbody tr th {\n",
       "        vertical-align: top;\n",
       "    }\n",
       "\n",
       "    .dataframe thead th {\n",
       "        text-align: right;\n",
       "    }\n",
       "</style>\n",
       "<table border=\"1\" class=\"dataframe\">\n",
       "  <thead>\n",
       "    <tr style=\"text-align: right;\">\n",
       "      <th></th>\n",
       "      <th>Give Birth</th>\n",
       "      <th>Can Fly</th>\n",
       "      <th>Live in Water</th>\n",
       "      <th>Have Legs</th>\n",
       "      <th>Class</th>\n",
       "    </tr>\n",
       "  </thead>\n",
       "  <tbody>\n",
       "    <tr>\n",
       "      <th>0</th>\n",
       "      <td>1</td>\n",
       "      <td>0</td>\n",
       "      <td>0</td>\n",
       "      <td>1</td>\n",
       "      <td>mammals</td>\n",
       "    </tr>\n",
       "    <tr>\n",
       "      <th>1</th>\n",
       "      <td>0</td>\n",
       "      <td>0</td>\n",
       "      <td>0</td>\n",
       "      <td>0</td>\n",
       "      <td>non-mammals</td>\n",
       "    </tr>\n",
       "    <tr>\n",
       "      <th>2</th>\n",
       "      <td>0</td>\n",
       "      <td>0</td>\n",
       "      <td>1</td>\n",
       "      <td>0</td>\n",
       "      <td>non-mammals</td>\n",
       "    </tr>\n",
       "    <tr>\n",
       "      <th>3</th>\n",
       "      <td>1</td>\n",
       "      <td>0</td>\n",
       "      <td>1</td>\n",
       "      <td>0</td>\n",
       "      <td>mammals</td>\n",
       "    </tr>\n",
       "    <tr>\n",
       "      <th>4</th>\n",
       "      <td>0</td>\n",
       "      <td>0</td>\n",
       "      <td>2</td>\n",
       "      <td>1</td>\n",
       "      <td>non-mammals</td>\n",
       "    </tr>\n",
       "  </tbody>\n",
       "</table>\n",
       "</div>"
      ],
      "text/plain": [
       "   Give Birth  Can Fly  Live in Water  Have Legs        Class\n",
       "0           1        0              0          1      mammals\n",
       "1           0        0              0          0  non-mammals\n",
       "2           0        0              1          0  non-mammals\n",
       "3           1        0              1          0      mammals\n",
       "4           0        0              2          1  non-mammals"
      ]
     },
     "execution_count": 35,
     "metadata": {},
     "output_type": "execute_result"
    }
   ],
   "source": [
    "df.head()"
   ]
  },
  {
   "cell_type": "code",
   "execution_count": 36,
   "metadata": {},
   "outputs": [
    {
     "data": {
      "text/html": [
       "<style  type=\"text/css\" >\n",
       "    #T_1811f32a_cbf7_11e9_9052_6c96cfdd9be7row0_col0 {\n",
       "            background-color:  #b40426;\n",
       "            color:  #f1f1f1;\n",
       "        }    #T_1811f32a_cbf7_11e9_9052_6c96cfdd9be7row0_col1 {\n",
       "            background-color:  #81a4fb;\n",
       "            color:  #000000;\n",
       "        }    #T_1811f32a_cbf7_11e9_9052_6c96cfdd9be7row0_col2 {\n",
       "            background-color:  #688aef;\n",
       "            color:  #000000;\n",
       "        }    #T_1811f32a_cbf7_11e9_9052_6c96cfdd9be7row0_col3 {\n",
       "            background-color:  #3b4cc0;\n",
       "            color:  #f1f1f1;\n",
       "        }    #T_1811f32a_cbf7_11e9_9052_6c96cfdd9be7row1_col0 {\n",
       "            background-color:  #5470de;\n",
       "            color:  #000000;\n",
       "        }    #T_1811f32a_cbf7_11e9_9052_6c96cfdd9be7row1_col1 {\n",
       "            background-color:  #b40426;\n",
       "            color:  #f1f1f1;\n",
       "        }    #T_1811f32a_cbf7_11e9_9052_6c96cfdd9be7row1_col2 {\n",
       "            background-color:  #3b4cc0;\n",
       "            color:  #f1f1f1;\n",
       "        }    #T_1811f32a_cbf7_11e9_9052_6c96cfdd9be7row1_col3 {\n",
       "            background-color:  #cdd9ec;\n",
       "            color:  #000000;\n",
       "        }    #T_1811f32a_cbf7_11e9_9052_6c96cfdd9be7row2_col0 {\n",
       "            background-color:  #3b4cc0;\n",
       "            color:  #f1f1f1;\n",
       "        }    #T_1811f32a_cbf7_11e9_9052_6c96cfdd9be7row2_col1 {\n",
       "            background-color:  #3b4cc0;\n",
       "            color:  #f1f1f1;\n",
       "        }    #T_1811f32a_cbf7_11e9_9052_6c96cfdd9be7row2_col2 {\n",
       "            background-color:  #b40426;\n",
       "            color:  #f1f1f1;\n",
       "        }    #T_1811f32a_cbf7_11e9_9052_6c96cfdd9be7row2_col3 {\n",
       "            background-color:  #485fd1;\n",
       "            color:  #f1f1f1;\n",
       "        }    #T_1811f32a_cbf7_11e9_9052_6c96cfdd9be7row3_col0 {\n",
       "            background-color:  #3b4cc0;\n",
       "            color:  #f1f1f1;\n",
       "        }    #T_1811f32a_cbf7_11e9_9052_6c96cfdd9be7row3_col1 {\n",
       "            background-color:  #e2dad5;\n",
       "            color:  #000000;\n",
       "        }    #T_1811f32a_cbf7_11e9_9052_6c96cfdd9be7row3_col2 {\n",
       "            background-color:  #7597f6;\n",
       "            color:  #000000;\n",
       "        }    #T_1811f32a_cbf7_11e9_9052_6c96cfdd9be7row3_col3 {\n",
       "            background-color:  #b40426;\n",
       "            color:  #f1f1f1;\n",
       "        }</style><table id=\"T_1811f32a_cbf7_11e9_9052_6c96cfdd9be7\" ><thead>    <tr>        <th class=\"blank level0\" ></th>        <th class=\"col_heading level0 col0\" >Give Birth</th>        <th class=\"col_heading level0 col1\" >Can Fly</th>        <th class=\"col_heading level0 col2\" >Live in Water</th>        <th class=\"col_heading level0 col3\" >Have Legs</th>    </tr></thead><tbody>\n",
       "                <tr>\n",
       "                        <th id=\"T_1811f32a_cbf7_11e9_9052_6c96cfdd9be7level0_row0\" class=\"row_heading level0 row0\" >Give Birth</th>\n",
       "                        <td id=\"T_1811f32a_cbf7_11e9_9052_6c96cfdd9be7row0_col0\" class=\"data row0 col0\" >1</td>\n",
       "                        <td id=\"T_1811f32a_cbf7_11e9_9052_6c96cfdd9be7row0_col1\" class=\"data row0 col1\" >-0.104828</td>\n",
       "                        <td id=\"T_1811f32a_cbf7_11e9_9052_6c96cfdd9be7row0_col2\" class=\"data row0 col2\" >-0.205118</td>\n",
       "                        <td id=\"T_1811f32a_cbf7_11e9_9052_6c96cfdd9be7row0_col3\" class=\"data row0 col3\" >-0.205879</td>\n",
       "            </tr>\n",
       "            <tr>\n",
       "                        <th id=\"T_1811f32a_cbf7_11e9_9052_6c96cfdd9be7level0_row1\" class=\"row_heading level0 row1\" >Can Fly</th>\n",
       "                        <td id=\"T_1811f32a_cbf7_11e9_9052_6c96cfdd9be7row1_col0\" class=\"data row1 col0\" >-0.104828</td>\n",
       "                        <td id=\"T_1811f32a_cbf7_11e9_9052_6c96cfdd9be7row1_col1\" class=\"data row1 col1\" >1</td>\n",
       "                        <td id=\"T_1811f32a_cbf7_11e9_9052_6c96cfdd9be7row1_col2\" class=\"data row1 col2\" >-0.410276</td>\n",
       "                        <td id=\"T_1811f32a_cbf7_11e9_9052_6c96cfdd9be7row1_col3\" class=\"data row1 col3\" >0.327327</td>\n",
       "            </tr>\n",
       "            <tr>\n",
       "                        <th id=\"T_1811f32a_cbf7_11e9_9052_6c96cfdd9be7level0_row2\" class=\"row_heading level0 row2\" >Live in Water</th>\n",
       "                        <td id=\"T_1811f32a_cbf7_11e9_9052_6c96cfdd9be7row2_col0\" class=\"data row2 col0\" >-0.205118</td>\n",
       "                        <td id=\"T_1811f32a_cbf7_11e9_9052_6c96cfdd9be7row2_col1\" class=\"data row2 col1\" >-0.410276</td>\n",
       "                        <td id=\"T_1811f32a_cbf7_11e9_9052_6c96cfdd9be7row2_col2\" class=\"data row2 col2\" >1</td>\n",
       "                        <td id=\"T_1811f32a_cbf7_11e9_9052_6c96cfdd9be7row2_col3\" class=\"data row2 col3\" >-0.151512</td>\n",
       "            </tr>\n",
       "            <tr>\n",
       "                        <th id=\"T_1811f32a_cbf7_11e9_9052_6c96cfdd9be7level0_row3\" class=\"row_heading level0 row3\" >Have Legs</th>\n",
       "                        <td id=\"T_1811f32a_cbf7_11e9_9052_6c96cfdd9be7row3_col0\" class=\"data row3 col0\" >-0.205879</td>\n",
       "                        <td id=\"T_1811f32a_cbf7_11e9_9052_6c96cfdd9be7row3_col1\" class=\"data row3 col1\" >0.327327</td>\n",
       "                        <td id=\"T_1811f32a_cbf7_11e9_9052_6c96cfdd9be7row3_col2\" class=\"data row3 col2\" >-0.151512</td>\n",
       "                        <td id=\"T_1811f32a_cbf7_11e9_9052_6c96cfdd9be7row3_col3\" class=\"data row3 col3\" >1</td>\n",
       "            </tr>\n",
       "    </tbody></table>"
      ],
      "text/plain": [
       "<pandas.io.formats.style.Styler at 0x1a1aebaef0>"
      ]
     },
     "execution_count": 36,
     "metadata": {},
     "output_type": "execute_result"
    }
   ],
   "source": [
    "cor = df.corr()\n",
    "cor.style.background_gradient(cmap='coolwarm')"
   ]
  },
  {
   "cell_type": "code",
   "execution_count": 37,
   "metadata": {},
   "outputs": [
    {
     "data": {
      "text/html": [
       "<div>\n",
       "<style scoped>\n",
       "    .dataframe tbody tr th:only-of-type {\n",
       "        vertical-align: middle;\n",
       "    }\n",
       "\n",
       "    .dataframe tbody tr th {\n",
       "        vertical-align: top;\n",
       "    }\n",
       "\n",
       "    .dataframe thead th {\n",
       "        text-align: right;\n",
       "    }\n",
       "</style>\n",
       "<table border=\"1\" class=\"dataframe\">\n",
       "  <thead>\n",
       "    <tr style=\"text-align: right;\">\n",
       "      <th></th>\n",
       "      <th>Give Birth</th>\n",
       "      <th>Can Fly</th>\n",
       "      <th>Live in Water</th>\n",
       "      <th>Have Legs</th>\n",
       "    </tr>\n",
       "  </thead>\n",
       "  <tbody>\n",
       "    <tr>\n",
       "      <th>0</th>\n",
       "      <td>1</td>\n",
       "      <td>0</td>\n",
       "      <td>0</td>\n",
       "      <td>1</td>\n",
       "    </tr>\n",
       "    <tr>\n",
       "      <th>1</th>\n",
       "      <td>0</td>\n",
       "      <td>0</td>\n",
       "      <td>0</td>\n",
       "      <td>0</td>\n",
       "    </tr>\n",
       "    <tr>\n",
       "      <th>2</th>\n",
       "      <td>0</td>\n",
       "      <td>0</td>\n",
       "      <td>1</td>\n",
       "      <td>0</td>\n",
       "    </tr>\n",
       "    <tr>\n",
       "      <th>3</th>\n",
       "      <td>1</td>\n",
       "      <td>0</td>\n",
       "      <td>1</td>\n",
       "      <td>0</td>\n",
       "    </tr>\n",
       "    <tr>\n",
       "      <th>4</th>\n",
       "      <td>0</td>\n",
       "      <td>0</td>\n",
       "      <td>2</td>\n",
       "      <td>1</td>\n",
       "    </tr>\n",
       "  </tbody>\n",
       "</table>\n",
       "</div>"
      ],
      "text/plain": [
       "   Give Birth  Can Fly  Live in Water  Have Legs\n",
       "0           1        0              0          1\n",
       "1           0        0              0          0\n",
       "2           0        0              1          0\n",
       "3           1        0              1          0\n",
       "4           0        0              2          1"
      ]
     },
     "execution_count": 37,
     "metadata": {},
     "output_type": "execute_result"
    }
   ],
   "source": [
    "target = df.pop('Class')\n",
    "df.head()"
   ]
  },
  {
   "cell_type": "code",
   "execution_count": 9,
   "metadata": {},
   "outputs": [],
   "source": [
    "from sklearn import metrics\n",
    "from sklearn.naive_bayes import GaussianNB"
   ]
  },
  {
   "cell_type": "code",
   "execution_count": 38,
   "metadata": {},
   "outputs": [
    {
     "data": {
      "text/plain": [
       "GaussianNB(priors=None, var_smoothing=1e-09)"
      ]
     },
     "execution_count": 38,
     "metadata": {},
     "output_type": "execute_result"
    }
   ],
   "source": [
    "model = GaussianNB()\n",
    "model.fit(df, target)"
   ]
  },
  {
   "cell_type": "markdown",
   "metadata": {},
   "source": [
    "## Solution using NB"
   ]
  },
  {
   "cell_type": "code",
   "execution_count": 39,
   "metadata": {},
   "outputs": [
    {
     "name": "stdout",
     "output_type": "stream",
     "text": [
      "['mammals']\n"
     ]
    }
   ],
   "source": [
    "input_data = pd.DataFrame([[1,0,2,1]])\n",
    "predicted_data = model.predict(input_data)\n",
    "\n",
    "print(predicted_data)"
   ]
  },
  {
   "cell_type": "code",
   "execution_count": 40,
   "metadata": {},
   "outputs": [],
   "source": [
    "expected = target\n",
    "predicted = model.predict(df)"
   ]
  },
  {
   "cell_type": "code",
   "execution_count": 41,
   "metadata": {},
   "outputs": [
    {
     "name": "stdout",
     "output_type": "stream",
     "text": [
      "              precision    recall  f1-score   support\n",
      "\n",
      "      mammal       0.33      1.00      0.50         1\n",
      "     mammals       0.86      1.00      0.92         6\n",
      " non-mammals       1.00      0.77      0.87        13\n",
      "\n",
      "   micro avg       0.85      0.85      0.85        20\n",
      "   macro avg       0.73      0.92      0.76        20\n",
      "weighted avg       0.92      0.85      0.87        20\n",
      "\n",
      "[[ 1  0  0]\n",
      " [ 0  6  0]\n",
      " [ 2  1 10]]\n"
     ]
    }
   ],
   "source": [
    "print(metrics.classification_report(expected, predicted))\n",
    "print(metrics.confusion_matrix(expected, predicted))"
   ]
  },
  {
   "cell_type": "code",
   "execution_count": null,
   "metadata": {},
   "outputs": [],
   "source": []
  }
 ],
 "metadata": {
  "kernelspec": {
   "display_name": "Python 3",
   "language": "python",
   "name": "python3"
  },
  "language_info": {
   "codemirror_mode": {
    "name": "ipython",
    "version": 3
   },
   "file_extension": ".py",
   "mimetype": "text/x-python",
   "name": "python",
   "nbconvert_exporter": "python",
   "pygments_lexer": "ipython3",
   "version": "3.7.3"
  }
 },
 "nbformat": 4,
 "nbformat_minor": 2
}
